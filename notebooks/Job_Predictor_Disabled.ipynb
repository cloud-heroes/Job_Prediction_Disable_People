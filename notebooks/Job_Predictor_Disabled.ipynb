{
 "cells": [
  {
   "cell_type": "code",
   "execution_count": 1,
   "metadata": {
    "ExecuteTime": {
     "end_time": "2021-03-08T19:13:53.750064Z",
     "start_time": "2021-03-08T19:13:53.516471Z"
    }
   },
   "outputs": [],
   "source": [
    "import pandas as pd"
   ]
  },
  {
   "cell_type": "code",
   "execution_count": 2,
   "metadata": {
    "ExecuteTime": {
     "end_time": "2021-03-08T16:10:07.094951Z",
     "start_time": "2021-03-08T16:10:07.069199Z"
    }
   },
   "outputs": [],
   "source": [
    "data = pd.read_csv('job_data.csv')\n",
    "data1 = data.copy()"
   ]
  },
  {
   "cell_type": "code",
   "execution_count": 3,
   "metadata": {},
   "outputs": [
    {
     "data": {
      "text/html": [
       "<div>\n",
       "<style scoped>\n",
       "    .dataframe tbody tr th:only-of-type {\n",
       "        vertical-align: middle;\n",
       "    }\n",
       "\n",
       "    .dataframe tbody tr th {\n",
       "        vertical-align: top;\n",
       "    }\n",
       "\n",
       "    .dataframe thead th {\n",
       "        text-align: right;\n",
       "    }\n",
       "</style>\n",
       "<table border=\"1\" class=\"dataframe\">\n",
       "  <thead>\n",
       "    <tr style=\"text-align: right;\">\n",
       "      <th></th>\n",
       "      <th>Unnamed: 0</th>\n",
       "      <th>Hearing</th>\n",
       "      <th>Learning</th>\n",
       "      <th>Mental Health</th>\n",
       "      <th>Other (Hand/Leg)</th>\n",
       "      <th>Vision</th>\n",
       "      <th>Eligibility</th>\n",
       "      <th>Salary</th>\n",
       "      <th>Title</th>\n",
       "      <th>Location</th>\n",
       "    </tr>\n",
       "  </thead>\n",
       "  <tbody>\n",
       "    <tr>\n",
       "      <th>0</th>\n",
       "      <td>18</td>\n",
       "      <td>1</td>\n",
       "      <td>0</td>\n",
       "      <td>0</td>\n",
       "      <td>1</td>\n",
       "      <td>0</td>\n",
       "      <td>High school diploma or GED</td>\n",
       "      <td>10000</td>\n",
       "      <td>Manufacturing Electrician</td>\n",
       "      <td>UP</td>\n",
       "    </tr>\n",
       "    <tr>\n",
       "      <th>1</th>\n",
       "      <td>1</td>\n",
       "      <td>1</td>\n",
       "      <td>0</td>\n",
       "      <td>0</td>\n",
       "      <td>0</td>\n",
       "      <td>0</td>\n",
       "      <td>Bachelors degree</td>\n",
       "      <td>9000</td>\n",
       "      <td>Distribution Operations</td>\n",
       "      <td>Maharashtra</td>\n",
       "    </tr>\n",
       "    <tr>\n",
       "      <th>2</th>\n",
       "      <td>6</td>\n",
       "      <td>1</td>\n",
       "      <td>0</td>\n",
       "      <td>0</td>\n",
       "      <td>0</td>\n",
       "      <td>0</td>\n",
       "      <td>Chemical Engineering</td>\n",
       "      <td>9000</td>\n",
       "      <td>Quality Engineer</td>\n",
       "      <td>Tamil Nadu</td>\n",
       "    </tr>\n",
       "    <tr>\n",
       "      <th>3</th>\n",
       "      <td>44</td>\n",
       "      <td>1</td>\n",
       "      <td>0</td>\n",
       "      <td>0</td>\n",
       "      <td>1</td>\n",
       "      <td>0</td>\n",
       "      <td>B.E./B.Tech</td>\n",
       "      <td>10000</td>\n",
       "      <td>Junior Engineer</td>\n",
       "      <td>Kerela</td>\n",
       "    </tr>\n",
       "    <tr>\n",
       "      <th>4</th>\n",
       "      <td>75</td>\n",
       "      <td>0</td>\n",
       "      <td>0</td>\n",
       "      <td>0</td>\n",
       "      <td>1</td>\n",
       "      <td>0</td>\n",
       "      <td>Dental</td>\n",
       "      <td>30000</td>\n",
       "      <td>Medical Assistant - Ortho</td>\n",
       "      <td>MP</td>\n",
       "    </tr>\n",
       "  </tbody>\n",
       "</table>\n",
       "</div>"
      ],
      "text/plain": [
       "   Unnamed: 0  Hearing  Learning  Mental Health  Other (Hand/Leg)  Vision  \\\n",
       "0          18        1         0              0                 1       0   \n",
       "1           1        1         0              0                 0       0   \n",
       "2           6        1         0              0                 0       0   \n",
       "3          44        1         0              0                 1       0   \n",
       "4          75        0         0              0                 1       0   \n",
       "\n",
       "                  Eligibility  Salary                      Title     Location  \n",
       "0  High school diploma or GED   10000  Manufacturing Electrician           UP  \n",
       "1            Bachelors degree    9000    Distribution Operations  Maharashtra  \n",
       "2        Chemical Engineering    9000           Quality Engineer   Tamil Nadu  \n",
       "3                 B.E./B.Tech   10000            Junior Engineer       Kerela  \n",
       "4                      Dental   30000  Medical Assistant - Ortho           MP  "
      ]
     },
     "execution_count": 3,
     "metadata": {},
     "output_type": "execute_result"
    }
   ],
   "source": [
    "data1.head()\n",
    "\n",
    "# [Business Title (o/p), Level, Job Category, Full-Time/Part-Time indicator, Career Level, Salary Range From, Salary Range To"
   ]
  },
  {
   "cell_type": "code",
   "execution_count": 4,
   "metadata": {},
   "outputs": [
    {
     "data": {
      "text/plain": [
       "Index(['Unnamed: 0', 'Hearing', 'Learning', 'Mental Health',\n",
       "       'Other (Hand/Leg)', 'Vision', 'Eligibility', 'Salary', 'Title',\n",
       "       'Location'],\n",
       "      dtype='object')"
      ]
     },
     "execution_count": 4,
     "metadata": {},
     "output_type": "execute_result"
    }
   ],
   "source": [
    "data1.columns"
   ]
  },
  {
   "cell_type": "code",
   "execution_count": 5,
   "metadata": {},
   "outputs": [],
   "source": [
    "# data1 = data.sample(n=1000, replace=True)"
   ]
  },
  {
   "cell_type": "code",
   "execution_count": 6,
   "metadata": {},
   "outputs": [],
   "source": [
    "# data1.rename(columns = {\"Hearing \": \"Hearing\"},inplace=True)"
   ]
  },
  {
   "cell_type": "code",
   "execution_count": 7,
   "metadata": {},
   "outputs": [],
   "source": [
    "# data1.columns"
   ]
  },
  {
   "cell_type": "code",
   "execution_count": 3,
   "metadata": {
    "ExecuteTime": {
     "end_time": "2021-03-08T16:10:11.584318Z",
     "start_time": "2021-03-08T16:10:11.569382Z"
    }
   },
   "outputs": [],
   "source": [
    "x = data1.drop(['Unnamed: 0','Title','Location'], axis=1)\n",
    "y = data1['Title']\n",
    "z = data1['Location']"
   ]
  },
  {
   "cell_type": "code",
   "execution_count": 4,
   "metadata": {
    "ExecuteTime": {
     "end_time": "2021-03-08T16:10:13.140353Z",
     "start_time": "2021-03-08T16:10:13.134598Z"
    }
   },
   "outputs": [],
   "source": [
    "# 2000 - 6999\n",
    "# 7000- 14999\n",
    "# 15000 - 34999\n",
    "# 3500 - 50000\n",
    "\n",
    "val1 = \"2000 - 6999\"\n",
    "val2 = \"7000 - 14999\"\n",
    "val3 = \"15000 - 34999\"\n",
    "val4 = \"35000 - 50000\"\n"
   ]
  },
  {
   "cell_type": "code",
   "execution_count": 7,
   "metadata": {
    "ExecuteTime": {
     "end_time": "2021-03-08T16:10:29.022321Z",
     "start_time": "2021-03-08T16:10:29.007361Z"
    }
   },
   "outputs": [],
   "source": [
    "# %%writefile preprocessing.py\n",
    "\n",
    "\n",
    "def salary_feature(df):\n",
    "    val1 = \"2000 - 6999\"\n",
    "    val2 = \"7000 - 14999\"\n",
    "    val3 = \"15000 - 34999\"\n",
    "    val4 = \"35000 - 50000\"\n",
    "\n",
    "    if df >= 2000 and df < 7000:\n",
    "        df = val1\n",
    "    elif df >= 7000 and df < 15000:\n",
    "        df = val2\n",
    "    elif df >= 15000 and df < 35000:\n",
    "        df = val3\n",
    "    else:\n",
    "        df = val4\n",
    "    return df\n",
    "\n",
    "\n",
    "li = ['High school diploma or GED','High School Diploma', 'High School Diploma/GED equivalent', 'High School diploma', \n",
    "      'High School or Equivalent (GED)', 'High School Diploma/GED Equivalency']\n",
    "\n",
    "def replace_redundant(df):\n",
    "    if df in li:\n",
    "        df = \"High School Diploma\"\n",
    "    elif df in ['Bachelors degree', 'Bachelors Degree']:\n",
    "        df = \"Bachelors Degree\"\n",
    "    return df    \n",
    "\n"
   ]
  },
  {
   "cell_type": "code",
   "execution_count": 8,
   "metadata": {
    "ExecuteTime": {
     "end_time": "2021-03-08T16:10:32.398755Z",
     "start_time": "2021-03-08T16:10:32.382941Z"
    }
   },
   "outputs": [],
   "source": [
    "x['Salary'] = x['Salary'].apply(salary_feature)"
   ]
  },
  {
   "cell_type": "code",
   "execution_count": 9,
   "metadata": {
    "ExecuteTime": {
     "end_time": "2021-03-08T16:11:09.926502Z",
     "start_time": "2021-03-08T16:11:09.912904Z"
    }
   },
   "outputs": [],
   "source": [
    "import pickle\n",
    "\n",
    "# pickle.dump(x['Salary'].unique(), open('Salary.sv', 'wb'))\n",
    "ss = pickle.load(open(\"Salary.sv\",\"rb\"))"
   ]
  },
  {
   "cell_type": "code",
   "execution_count": 2,
   "metadata": {
    "ExecuteTime": {
     "end_time": "2021-03-08T19:14:08.042028Z",
     "start_time": "2021-03-08T19:14:08.034049Z"
    }
   },
   "outputs": [
    {
     "data": {
      "text/plain": [
       "array(['2000 - 6999', '7000 - 14999', '15000 - 34999', '35000 - 50000'],\n",
       "      dtype=object)"
      ]
     },
     "execution_count": 2,
     "metadata": {},
     "output_type": "execute_result"
    }
   ],
   "source": [
    "\n",
    "arr = np.array(['2000 - 6999','7000 - 14999', '15000 - 34999','35000 - 50000'], dtype=object)\n",
    "arr"
   ]
  },
  {
   "cell_type": "code",
   "execution_count": 3,
   "metadata": {
    "ExecuteTime": {
     "end_time": "2021-03-08T19:14:47.872963Z",
     "start_time": "2021-03-08T19:14:47.866979Z"
    }
   },
   "outputs": [],
   "source": [
    "import pickle\n",
    "\n",
    "pickle.dump(arr, open('Salary.sv', 'wb'))\n"
   ]
  },
  {
   "cell_type": "code",
   "execution_count": 144,
   "metadata": {},
   "outputs": [],
   "source": [
    "li = ['High school diploma or GED','High School Diploma', 'High School Diploma/GED equivalent', 'High School diploma', \n",
    "      'High School or Equivalent (GED)', 'High School Diploma/GED Equivalency']\n",
    "\n",
    "def replace_redundant(df):\n",
    "    if df in li:\n",
    "        df = \"High School Diploma\"\n",
    "    elif df in ['Bachelors degree', 'Bachelors Degree']:\n",
    "        df = \"Bachelors Degree\"\n",
    "    return df    \n"
   ]
  },
  {
   "cell_type": "code",
   "execution_count": 145,
   "metadata": {},
   "outputs": [],
   "source": [
    "x['Eligibility'] = x['Eligibility'].apply(replace_redundant)"
   ]
  },
  {
   "cell_type": "code",
   "execution_count": 146,
   "metadata": {},
   "outputs": [],
   "source": [
    "import pickle\n",
    "\n",
    "eli = x['Eligibility'].unique()\n",
    "\n",
    "with open('eligibility_list.sv', 'wb') as f:\n",
    "    pickle.dump(eli, f)"
   ]
  },
  {
   "cell_type": "code",
   "execution_count": 147,
   "metadata": {},
   "outputs": [],
   "source": [
    "from sklearn.preprocessing import LabelEncoder"
   ]
  },
  {
   "cell_type": "code",
   "execution_count": 148,
   "metadata": {},
   "outputs": [],
   "source": [
    "le_eli = LabelEncoder()\n",
    "le_sal = LabelEncoder()\n",
    "\n",
    "x['Eligibility'] = le_eli.fit_transform(x['Eligibility'])\n",
    "x['Salary'] = le_sal.fit_transform(x['Salary'])"
   ]
  },
  {
   "cell_type": "code",
   "execution_count": 149,
   "metadata": {},
   "outputs": [],
   "source": [
    "from sklearn.ensemble import RandomForestClassifier, ExtraTreesClassifier\n",
    "from sklearn.svm import SVC\n",
    "from sklearn.pipeline import Pipeline\n",
    "from sklearn.linear_model import LogisticRegression\n",
    "from sklearn.neighbors import KNeighborsClassifier\n",
    "from sklearn.metrics import f1_score, accuracy_score\n",
    "from sklearn.model_selection import train_test_split"
   ]
  },
  {
   "cell_type": "code",
   "execution_count": 150,
   "metadata": {},
   "outputs": [],
   "source": [
    "x_train, x_test, y_train, y_test = train_test_split(x, y, stratify=y, test_size=0.2, random_state = 42)"
   ]
  },
  {
   "cell_type": "code",
   "execution_count": 151,
   "metadata": {},
   "outputs": [
    {
     "data": {
      "text/plain": [
       "0.88"
      ]
     },
     "execution_count": 151,
     "metadata": {},
     "output_type": "execute_result"
    }
   ],
   "source": [
    "rf = RandomForestClassifier()\n",
    "rf.fit(x_train, y_train)\n",
    "y_pred = rf.predict(x_test)\n",
    "\n",
    "f1_score(y_pred, y_test, average='micro')\n",
    "accuracy_score(y_pred, y_test)"
   ]
  },
  {
   "cell_type": "code",
   "execution_count": 152,
   "metadata": {},
   "outputs": [],
   "source": [
    "pickle.dump(rf, open('model.sv', 'wb'))"
   ]
  },
  {
   "cell_type": "code",
   "execution_count": 153,
   "metadata": {},
   "outputs": [],
   "source": [
    "pickle.dump(le_eli, open('labelencoder_eligibility.sv', 'wb'))\n",
    "pickle.dump(le_sal, open('labelencoder_salary.sv', 'wb'))"
   ]
  },
  {
   "cell_type": "code",
   "execution_count": 154,
   "metadata": {},
   "outputs": [],
   "source": [
    "model = pickle.load(open('model.sv','rb'))"
   ]
  },
  {
   "cell_type": "code",
   "execution_count": 155,
   "metadata": {},
   "outputs": [],
   "source": [
    "le_e1 = pickle.load(open('labelencoder_eligibility.sv', 'rb'))\n",
    "le_s1 = pickle.load(open('labelencoder_salary.sv', 'rb'))"
   ]
  },
  {
   "cell_type": "code",
   "execution_count": 156,
   "metadata": {},
   "outputs": [],
   "source": [
    "data1['Salary'] = data1['Salary'].apply(salary_feature)\n"
   ]
  },
  {
   "cell_type": "code",
   "execution_count": 157,
   "metadata": {},
   "outputs": [
    {
     "data": {
      "text/html": [
       "<div>\n",
       "<style scoped>\n",
       "    .dataframe tbody tr th:only-of-type {\n",
       "        vertical-align: middle;\n",
       "    }\n",
       "\n",
       "    .dataframe tbody tr th {\n",
       "        vertical-align: top;\n",
       "    }\n",
       "\n",
       "    .dataframe thead th {\n",
       "        text-align: right;\n",
       "    }\n",
       "</style>\n",
       "<table border=\"1\" class=\"dataframe\">\n",
       "  <thead>\n",
       "    <tr style=\"text-align: right;\">\n",
       "      <th></th>\n",
       "      <th>Hearing</th>\n",
       "      <th>Learning</th>\n",
       "      <th>Mental Health</th>\n",
       "      <th>Other (Hand/Leg)</th>\n",
       "      <th>Vision</th>\n",
       "      <th>Eligibility</th>\n",
       "      <th>Salary</th>\n",
       "    </tr>\n",
       "  </thead>\n",
       "  <tbody>\n",
       "    <tr>\n",
       "      <th>0</th>\n",
       "      <td>1</td>\n",
       "      <td>0</td>\n",
       "      <td>0</td>\n",
       "      <td>1</td>\n",
       "      <td>0</td>\n",
       "      <td>24</td>\n",
       "      <td>3</td>\n",
       "    </tr>\n",
       "    <tr>\n",
       "      <th>1</th>\n",
       "      <td>1</td>\n",
       "      <td>0</td>\n",
       "      <td>0</td>\n",
       "      <td>0</td>\n",
       "      <td>0</td>\n",
       "      <td>9</td>\n",
       "      <td>3</td>\n",
       "    </tr>\n",
       "    <tr>\n",
       "      <th>2</th>\n",
       "      <td>1</td>\n",
       "      <td>0</td>\n",
       "      <td>0</td>\n",
       "      <td>0</td>\n",
       "      <td>0</td>\n",
       "      <td>12</td>\n",
       "      <td>3</td>\n",
       "    </tr>\n",
       "    <tr>\n",
       "      <th>3</th>\n",
       "      <td>1</td>\n",
       "      <td>0</td>\n",
       "      <td>0</td>\n",
       "      <td>1</td>\n",
       "      <td>0</td>\n",
       "      <td>3</td>\n",
       "      <td>3</td>\n",
       "    </tr>\n",
       "    <tr>\n",
       "      <th>4</th>\n",
       "      <td>0</td>\n",
       "      <td>0</td>\n",
       "      <td>0</td>\n",
       "      <td>1</td>\n",
       "      <td>0</td>\n",
       "      <td>16</td>\n",
       "      <td>0</td>\n",
       "    </tr>\n",
       "  </tbody>\n",
       "</table>\n",
       "</div>"
      ],
      "text/plain": [
       "   Hearing  Learning  Mental Health  Other (Hand/Leg)  Vision  Eligibility  \\\n",
       "0        1         0              0                 1       0           24   \n",
       "1        1         0              0                 0       0            9   \n",
       "2        1         0              0                 0       0           12   \n",
       "3        1         0              0                 1       0            3   \n",
       "4        0         0              0                 1       0           16   \n",
       "\n",
       "   Salary  \n",
       "0       3  \n",
       "1       3  \n",
       "2       3  \n",
       "3       3  \n",
       "4       0  "
      ]
     },
     "execution_count": 157,
     "metadata": {},
     "output_type": "execute_result"
    }
   ],
   "source": [
    "x.head()"
   ]
  },
  {
   "cell_type": "code",
   "execution_count": 158,
   "metadata": {},
   "outputs": [],
   "source": [
    "test_data = pd.DataFrame([{\"Hearing\":1,\"Learning\": 0,\"Mental Health\": 0, \"Other (Hand/Leg)\": 1,\"Vision\": 0,\"Eligibility\": 'B.E./B.Tech','Salary': '7000 - 14999'}])"
   ]
  },
  {
   "cell_type": "code",
   "execution_count": 159,
   "metadata": {},
   "outputs": [],
   "source": [
    "test_data['Salary'] = le_s1.transform(test_data['Salary'])\n",
    "test_data['Eligibility'] = le_e1.transform(test_data['Eligibility'])"
   ]
  },
  {
   "cell_type": "code",
   "execution_count": 160,
   "metadata": {},
   "outputs": [
    {
     "data": {
      "text/plain": [
       "array(['Junior Engineer'], dtype=object)"
      ]
     },
     "execution_count": 160,
     "metadata": {},
     "output_type": "execute_result"
    }
   ],
   "source": [
    "model.predict(test_data)"
   ]
  },
  {
   "cell_type": "code",
   "execution_count": null,
   "metadata": {},
   "outputs": [],
   "source": []
  }
 ],
 "metadata": {
  "kernelspec": {
   "display_name": "Python 3",
   "language": "python",
   "name": "python3"
  },
  "language_info": {
   "codemirror_mode": {
    "name": "ipython",
    "version": 3
   },
   "file_extension": ".py",
   "mimetype": "text/x-python",
   "name": "python",
   "nbconvert_exporter": "python",
   "pygments_lexer": "ipython3",
   "version": "3.7.6"
  },
  "toc": {
   "base_numbering": 1,
   "nav_menu": {},
   "number_sections": true,
   "sideBar": true,
   "skip_h1_title": false,
   "title_cell": "Table of Contents",
   "title_sidebar": "Contents",
   "toc_cell": false,
   "toc_position": {},
   "toc_section_display": true,
   "toc_window_display": false
  },
  "varInspector": {
   "cols": {
    "lenName": 16,
    "lenType": 16,
    "lenVar": 40
   },
   "kernels_config": {
    "python": {
     "delete_cmd_postfix": "",
     "delete_cmd_prefix": "del ",
     "library": "var_list.py",
     "varRefreshCmd": "print(var_dic_list())"
    },
    "r": {
     "delete_cmd_postfix": ") ",
     "delete_cmd_prefix": "rm(",
     "library": "var_list.r",
     "varRefreshCmd": "cat(var_dic_list()) "
    }
   },
   "types_to_exclude": [
    "module",
    "function",
    "builtin_function_or_method",
    "instance",
    "_Feature"
   ],
   "window_display": false
  }
 },
 "nbformat": 4,
 "nbformat_minor": 4
}
