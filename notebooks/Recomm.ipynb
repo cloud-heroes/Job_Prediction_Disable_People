{
 "cells": [
  {
   "cell_type": "markdown",
   "metadata": {},
   "source": [
    "# Load Liraries"
   ]
  },
  {
   "cell_type": "code",
   "execution_count": 4,
   "metadata": {
    "ExecuteTime": {
     "end_time": "2020-07-01T15:12:09.891231Z",
     "start_time": "2020-07-01T15:12:08.978179Z"
    }
   },
   "outputs": [],
   "source": [
    "import pandas as pd\n",
    "import numpy as np"
   ]
  },
  {
   "cell_type": "code",
   "execution_count": 5,
   "metadata": {
    "ExecuteTime": {
     "end_time": "2020-07-01T15:12:10.008238Z",
     "start_time": "2020-07-01T15:12:09.893231Z"
    }
   },
   "outputs": [],
   "source": [
    "data = pd.read_excel('jobss (1).xlsx')"
   ]
  },
  {
   "cell_type": "code",
   "execution_count": 6,
   "metadata": {
    "ExecuteTime": {
     "end_time": "2020-07-01T15:12:10.027239Z",
     "start_time": "2020-07-01T15:12:10.012238Z"
    }
   },
   "outputs": [],
   "source": [
    "data.dropna(inplace=True)"
   ]
  },
  {
   "cell_type": "code",
   "execution_count": 7,
   "metadata": {
    "ExecuteTime": {
     "end_time": "2020-07-01T15:12:10.141245Z",
     "start_time": "2020-07-01T15:12:10.031239Z"
    }
   },
   "outputs": [],
   "source": [
    "data.reset_index(drop=True, inplace=True)"
   ]
  },
  {
   "cell_type": "code",
   "execution_count": 8,
   "metadata": {
    "ExecuteTime": {
     "end_time": "2020-07-01T15:12:10.285253Z",
     "start_time": "2020-07-01T15:12:10.147245Z"
    }
   },
   "outputs": [
    {
     "data": {
      "text/plain": [
       "srno.           0\n",
       "location        0\n",
       "job title       0\n",
       "salary          0\n",
       "eligibility1    0\n",
       "eligibility2    0\n",
       "eligibility3    0\n",
       "sector          0\n",
       "company         0\n",
       "url             0\n",
       "dtype: int64"
      ]
     },
     "execution_count": 8,
     "metadata": {},
     "output_type": "execute_result"
    }
   ],
   "source": [
    "data.isna().sum()"
   ]
  },
  {
   "cell_type": "code",
   "execution_count": 9,
   "metadata": {
    "ExecuteTime": {
     "end_time": "2020-07-01T15:12:10.413261Z",
     "start_time": "2020-07-01T15:12:10.289254Z"
    }
   },
   "outputs": [],
   "source": [
    "data.drop(['srno.','url'],axis=1,inplace=True)"
   ]
  },
  {
   "cell_type": "code",
   "execution_count": 10,
   "metadata": {
    "ExecuteTime": {
     "end_time": "2020-07-01T15:12:10.565269Z",
     "start_time": "2020-07-01T15:12:10.416261Z"
    }
   },
   "outputs": [
    {
     "data": {
      "text/html": [
       "<div>\n",
       "<style scoped>\n",
       "    .dataframe tbody tr th:only-of-type {\n",
       "        vertical-align: middle;\n",
       "    }\n",
       "\n",
       "    .dataframe tbody tr th {\n",
       "        vertical-align: top;\n",
       "    }\n",
       "\n",
       "    .dataframe thead th {\n",
       "        text-align: right;\n",
       "    }\n",
       "</style>\n",
       "<table border=\"1\" class=\"dataframe\">\n",
       "  <thead>\n",
       "    <tr style=\"text-align: right;\">\n",
       "      <th></th>\n",
       "      <th>location</th>\n",
       "      <th>job title</th>\n",
       "      <th>salary</th>\n",
       "      <th>eligibility1</th>\n",
       "      <th>eligibility2</th>\n",
       "      <th>eligibility3</th>\n",
       "      <th>sector</th>\n",
       "      <th>company</th>\n",
       "    </tr>\n",
       "  </thead>\n",
       "  <tbody>\n",
       "    <tr>\n",
       "      <th>0</th>\n",
       "      <td>Haladwani</td>\n",
       "      <td>Sales officer</td>\n",
       "      <td>200000</td>\n",
       "      <td>Sales</td>\n",
       "      <td>Business development</td>\n",
       "      <td>Lead generation</td>\n",
       "      <td>marketing</td>\n",
       "      <td>Digiperform</td>\n",
       "    </tr>\n",
       "    <tr>\n",
       "      <th>1</th>\n",
       "      <td>Roorkee</td>\n",
       "      <td>Exciting job opportunity for  gynecologist in ...</td>\n",
       "      <td>320000</td>\n",
       "      <td>Gynecologist</td>\n",
       "      <td>Gynecology</td>\n",
       "      <td>DNB Gynecology</td>\n",
       "      <td>health</td>\n",
       "      <td>Bhagwati Hospital</td>\n",
       "    </tr>\n",
       "    <tr>\n",
       "      <th>2</th>\n",
       "      <td>Roorkee</td>\n",
       "      <td>Job opening for the post of line supervisor</td>\n",
       "      <td>300000</td>\n",
       "      <td>Quality Supervisor</td>\n",
       "      <td>Quality Engineer</td>\n",
       "      <td>Quality Assurance</td>\n",
       "      <td>management</td>\n",
       "      <td>NIIT</td>\n",
       "    </tr>\n",
       "    <tr>\n",
       "      <th>3</th>\n",
       "      <td>Haladwani</td>\n",
       "      <td>Hiring delivery boys for a food delivery app</td>\n",
       "      <td>150000</td>\n",
       "      <td>Delivery boy</td>\n",
       "      <td>Delivery field boy</td>\n",
       "      <td>Delivery parcel</td>\n",
       "      <td>sales</td>\n",
       "      <td>Digiperform</td>\n",
       "    </tr>\n",
       "    <tr>\n",
       "      <th>4</th>\n",
       "      <td>Haridwar</td>\n",
       "      <td>Marketing ane New product development</td>\n",
       "      <td>200000</td>\n",
       "      <td>Marketing</td>\n",
       "      <td>Sales</td>\n",
       "      <td>New product</td>\n",
       "      <td>sales</td>\n",
       "      <td>Kalpamrit Marketing</td>\n",
       "    </tr>\n",
       "  </tbody>\n",
       "</table>\n",
       "</div>"
      ],
      "text/plain": [
       "    location                                          job title  salary  \\\n",
       "0  Haladwani                                      Sales officer  200000   \n",
       "1    Roorkee  Exciting job opportunity for  gynecologist in ...  320000   \n",
       "2    Roorkee        Job opening for the post of line supervisor  300000   \n",
       "3  Haladwani       Hiring delivery boys for a food delivery app  150000   \n",
       "4   Haridwar              Marketing ane New product development  200000   \n",
       "\n",
       "         eligibility1          eligibility2       eligibility3      sector  \\\n",
       "0              Sales   Business development    Lead generation   marketing   \n",
       "1        Gynecologist            Gynecology     DNB Gynecology      health   \n",
       "2  Quality Supervisor      Quality Engineer  Quality Assurance  management   \n",
       "3        Delivery boy    Delivery field boy    Delivery parcel       sales   \n",
       "4           Marketing                 Sales        New product       sales   \n",
       "\n",
       "               company  \n",
       "0          Digiperform  \n",
       "1    Bhagwati Hospital  \n",
       "2                 NIIT  \n",
       "3          Digiperform  \n",
       "4  Kalpamrit Marketing  "
      ]
     },
     "execution_count": 10,
     "metadata": {},
     "output_type": "execute_result"
    }
   ],
   "source": [
    "data.head()"
   ]
  },
  {
   "cell_type": "markdown",
   "metadata": {},
   "source": [
    "# Test KMeans on train and test set"
   ]
  },
  {
   "cell_type": "code",
   "execution_count": 11,
   "metadata": {
    "ExecuteTime": {
     "end_time": "2020-07-01T15:12:10.728279Z",
     "start_time": "2020-07-01T15:12:10.574270Z"
    }
   },
   "outputs": [],
   "source": [
    "df = data.copy()"
   ]
  },
  {
   "cell_type": "code",
   "execution_count": 12,
   "metadata": {
    "ExecuteTime": {
     "end_time": "2020-07-01T15:12:10.890288Z",
     "start_time": "2020-07-01T15:12:10.735279Z"
    }
   },
   "outputs": [
    {
     "data": {
      "text/plain": [
       "Index(['location', 'job title', 'salary', 'eligibility1', 'eligibility2',\n",
       "       'eligibility3', 'sector', 'company'],\n",
       "      dtype='object')"
      ]
     },
     "execution_count": 12,
     "metadata": {},
     "output_type": "execute_result"
    }
   ],
   "source": [
    "data.columns"
   ]
  },
  {
   "cell_type": "markdown",
   "metadata": {},
   "source": [
    "## seperate out only eligibility and sector for kmeans"
   ]
  },
  {
   "cell_type": "code",
   "execution_count": 13,
   "metadata": {
    "ExecuteTime": {
     "end_time": "2020-07-01T15:12:10.991294Z",
     "start_time": "2020-07-01T15:12:10.893288Z"
    }
   },
   "outputs": [],
   "source": [
    "df.drop(['location','job title','salary','company'],axis=1,inplace=True)"
   ]
  },
  {
   "cell_type": "code",
   "execution_count": 14,
   "metadata": {
    "ExecuteTime": {
     "end_time": "2020-07-01T15:12:11.096300Z",
     "start_time": "2020-07-01T15:12:10.999294Z"
    }
   },
   "outputs": [
    {
     "name": "stdout",
     "output_type": "stream",
     "text": [
      "<class 'pandas.core.frame.DataFrame'>\n",
      "RangeIndex: 182 entries, 0 to 181\n",
      "Data columns (total 4 columns):\n",
      " #   Column        Non-Null Count  Dtype \n",
      "---  ------        --------------  ----- \n",
      " 0   eligibility1  182 non-null    object\n",
      " 1   eligibility2  182 non-null    object\n",
      " 2   eligibility3  182 non-null    object\n",
      " 3   sector        182 non-null    object\n",
      "dtypes: object(4)\n",
      "memory usage: 5.8+ KB\n"
     ]
    }
   ],
   "source": [
    "df.info()"
   ]
  },
  {
   "cell_type": "code",
   "execution_count": 15,
   "metadata": {
    "ExecuteTime": {
     "end_time": "2020-07-01T15:12:11.891345Z",
     "start_time": "2020-07-01T15:12:11.099300Z"
    }
   },
   "outputs": [],
   "source": [
    "from sklearn.preprocessing import OneHotEncoder\n",
    "\n",
    "ohe = OneHotEncoder()\n",
    "\n",
    "df = ohe.fit_transform(df)"
   ]
  },
  {
   "cell_type": "code",
   "execution_count": 29,
   "metadata": {
    "ExecuteTime": {
     "end_time": "2020-07-01T15:12:11.941348Z",
     "start_time": "2020-07-01T15:12:11.893345Z"
    }
   },
   "outputs": [],
   "source": [
    "from sklearn.model_selection import train_test_split\n",
    "\n",
    "train, test = train_test_split(df, test_size=0.2)"
   ]
  },
  {
   "cell_type": "code",
   "execution_count": 30,
   "metadata": {
    "ExecuteTime": {
     "end_time": "2020-07-01T15:12:12.252366Z",
     "start_time": "2020-07-01T15:12:11.943348Z"
    }
   },
   "outputs": [],
   "source": [
    "from sklearn.cluster import KMeans"
   ]
  },
  {
   "cell_type": "code",
   "execution_count": 31,
   "metadata": {
    "ExecuteTime": {
     "end_time": "2020-07-01T15:12:12.257366Z",
     "start_time": "2020-07-01T15:12:12.254366Z"
    }
   },
   "outputs": [],
   "source": [
    "km = KMeans(n_clusters=21)"
   ]
  },
  {
   "cell_type": "code",
   "execution_count": 32,
   "metadata": {
    "ExecuteTime": {
     "end_time": "2020-07-01T15:12:12.801397Z",
     "start_time": "2020-07-01T15:12:12.259366Z"
    }
   },
   "outputs": [
    {
     "data": {
      "text/plain": [
       "KMeans(algorithm='auto', copy_x=True, init='k-means++', max_iter=300,\n",
       "       n_clusters=21, n_init=10, n_jobs=None, precompute_distances='auto',\n",
       "       random_state=None, tol=0.0001, verbose=0)"
      ]
     },
     "execution_count": 32,
     "metadata": {},
     "output_type": "execute_result"
    }
   ],
   "source": [
    "km.fit(train)"
   ]
  },
  {
   "cell_type": "code",
   "execution_count": 37,
   "metadata": {
    "ExecuteTime": {
     "end_time": "2020-07-01T15:12:12.812398Z",
     "start_time": "2020-07-01T15:12:12.804397Z"
    }
   },
   "outputs": [],
   "source": [
    "pred = km.predict(test)"
   ]
  },
  {
   "cell_type": "code",
   "execution_count": 35,
   "metadata": {
    "ExecuteTime": {
     "end_time": "2020-07-01T15:12:12.921404Z",
     "start_time": "2020-07-01T15:12:12.815398Z"
    }
   },
   "outputs": [],
   "source": [
    "te = pd.DataFrame(ohe.inverse_transform(test))"
   ]
  },
  {
   "cell_type": "code",
   "execution_count": 36,
   "metadata": {},
   "outputs": [
    {
     "data": {
      "text/html": [
       "<div>\n",
       "<style scoped>\n",
       "    .dataframe tbody tr th:only-of-type {\n",
       "        vertical-align: middle;\n",
       "    }\n",
       "\n",
       "    .dataframe tbody tr th {\n",
       "        vertical-align: top;\n",
       "    }\n",
       "\n",
       "    .dataframe thead th {\n",
       "        text-align: right;\n",
       "    }\n",
       "</style>\n",
       "<table border=\"1\" class=\"dataframe\">\n",
       "  <thead>\n",
       "    <tr style=\"text-align: right;\">\n",
       "      <th></th>\n",
       "      <th>0</th>\n",
       "      <th>1</th>\n",
       "      <th>2</th>\n",
       "      <th>3</th>\n",
       "    </tr>\n",
       "  </thead>\n",
       "  <tbody>\n",
       "    <tr>\n",
       "      <th>0</th>\n",
       "      <td>Collection agent</td>\n",
       "      <td>Banking</td>\n",
       "      <td>Head business development</td>\n",
       "      <td>banking</td>\n",
       "    </tr>\n",
       "    <tr>\n",
       "      <th>1</th>\n",
       "      <td>distribution management</td>\n",
       "      <td>channel partners</td>\n",
       "      <td>retail outlets</td>\n",
       "      <td>sales management</td>\n",
       "    </tr>\n",
       "    <tr>\n",
       "      <th>2</th>\n",
       "      <td>Cabin crew</td>\n",
       "      <td>Sr. Cabin crew</td>\n",
       "      <td>Air hostess</td>\n",
       "      <td>Aviation</td>\n",
       "    </tr>\n",
       "    <tr>\n",
       "      <th>3</th>\n",
       "      <td>SMO</td>\n",
       "      <td>XML</td>\n",
       "      <td>Social media</td>\n",
       "      <td>marketing</td>\n",
       "    </tr>\n",
       "    <tr>\n",
       "      <th>4</th>\n",
       "      <td>Inverter Engineer</td>\n",
       "      <td>SMPS</td>\n",
       "      <td>Power Electronics</td>\n",
       "      <td>electronic engineer</td>\n",
       "    </tr>\n",
       "    <tr>\n",
       "      <th>5</th>\n",
       "      <td>Insurance</td>\n",
       "      <td>Bank</td>\n",
       "      <td>Financial</td>\n",
       "      <td>banking</td>\n",
       "    </tr>\n",
       "    <tr>\n",
       "      <th>6</th>\n",
       "      <td>marketing</td>\n",
       "      <td>content designer</td>\n",
       "      <td>content writing</td>\n",
       "      <td>literature</td>\n",
       "    </tr>\n",
       "    <tr>\n",
       "      <th>7</th>\n",
       "      <td>Human resource management</td>\n",
       "      <td>HR</td>\n",
       "      <td>Statutory compliance</td>\n",
       "      <td>marketing</td>\n",
       "    </tr>\n",
       "    <tr>\n",
       "      <th>8</th>\n",
       "      <td>General manager</td>\n",
       "      <td>Deputy general manager</td>\n",
       "      <td>Resort manager</td>\n",
       "      <td>management</td>\n",
       "    </tr>\n",
       "    <tr>\n",
       "      <th>9</th>\n",
       "      <td>Tax</td>\n",
       "      <td>Accounts</td>\n",
       "      <td>Cost analysis</td>\n",
       "      <td>banking</td>\n",
       "    </tr>\n",
       "    <tr>\n",
       "      <th>10</th>\n",
       "      <td>Shampoo</td>\n",
       "      <td>Skin care</td>\n",
       "      <td>Industrial marketing</td>\n",
       "      <td>health</td>\n",
       "    </tr>\n",
       "    <tr>\n",
       "      <th>11</th>\n",
       "      <td>Pol science</td>\n",
       "      <td>PGT political science</td>\n",
       "      <td>Political science teacher</td>\n",
       "      <td>education</td>\n",
       "    </tr>\n",
       "    <tr>\n",
       "      <th>12</th>\n",
       "      <td>GIT</td>\n",
       "      <td>Jenkins</td>\n",
       "      <td>Bootstrap</td>\n",
       "      <td>IT engineer</td>\n",
       "    </tr>\n",
       "    <tr>\n",
       "      <th>13</th>\n",
       "      <td>Formulation</td>\n",
       "      <td>r&amp;d</td>\n",
       "      <td>Capsule</td>\n",
       "      <td>management</td>\n",
       "    </tr>\n",
       "    <tr>\n",
       "      <th>14</th>\n",
       "      <td>Tax</td>\n",
       "      <td>Accounts</td>\n",
       "      <td>Cost analysis</td>\n",
       "      <td>banking</td>\n",
       "    </tr>\n",
       "    <tr>\n",
       "      <th>15</th>\n",
       "      <td>Bridge construction</td>\n",
       "      <td>Civil engineering</td>\n",
       "      <td>Quality surveyor</td>\n",
       "      <td>engineer</td>\n",
       "    </tr>\n",
       "    <tr>\n",
       "      <th>16</th>\n",
       "      <td>Passenger service agent</td>\n",
       "      <td>Security officer</td>\n",
       "      <td>Passport checking</td>\n",
       "      <td>Aviation</td>\n",
       "    </tr>\n",
       "    <tr>\n",
       "      <th>17</th>\n",
       "      <td>Quality Supervisor</td>\n",
       "      <td>Quality Engineer</td>\n",
       "      <td>Quality Assurance</td>\n",
       "      <td>management</td>\n",
       "    </tr>\n",
       "    <tr>\n",
       "      <th>18</th>\n",
       "      <td>Urology</td>\n",
       "      <td>Consultant urologist</td>\n",
       "      <td>DNB urology</td>\n",
       "      <td>health</td>\n",
       "    </tr>\n",
       "    <tr>\n",
       "      <th>19</th>\n",
       "      <td>A3 printer</td>\n",
       "      <td>Commercial printer</td>\n",
       "      <td>Management</td>\n",
       "      <td>Sales</td>\n",
       "    </tr>\n",
       "    <tr>\n",
       "      <th>20</th>\n",
       "      <td>Passenger handling</td>\n",
       "      <td>Baggage handling</td>\n",
       "      <td>Service report</td>\n",
       "      <td>Aviation</td>\n",
       "    </tr>\n",
       "    <tr>\n",
       "      <th>21</th>\n",
       "      <td>Sales</td>\n",
       "      <td>Business development</td>\n",
       "      <td>Lead generation</td>\n",
       "      <td>marketing</td>\n",
       "    </tr>\n",
       "    <tr>\n",
       "      <th>22</th>\n",
       "      <td>GPS</td>\n",
       "      <td>Electrical</td>\n",
       "      <td>Sensor</td>\n",
       "      <td>engineer</td>\n",
       "    </tr>\n",
       "    <tr>\n",
       "      <th>23</th>\n",
       "      <td>Conselor</td>\n",
       "      <td>Mentor</td>\n",
       "      <td>Trainer</td>\n",
       "      <td>education</td>\n",
       "    </tr>\n",
       "    <tr>\n",
       "      <th>24</th>\n",
       "      <td>MS SQL</td>\n",
       "      <td>Javascript</td>\n",
       "      <td>JIRA</td>\n",
       "      <td>IT engineer</td>\n",
       "    </tr>\n",
       "    <tr>\n",
       "      <th>25</th>\n",
       "      <td>Banking operations</td>\n",
       "      <td>Banking</td>\n",
       "      <td>Banking and finanace</td>\n",
       "      <td>banking</td>\n",
       "    </tr>\n",
       "    <tr>\n",
       "      <th>26</th>\n",
       "      <td>Banking operations</td>\n",
       "      <td>Customer service executive</td>\n",
       "      <td>Back officer executive</td>\n",
       "      <td>banking</td>\n",
       "    </tr>\n",
       "    <tr>\n",
       "      <th>27</th>\n",
       "      <td>Pediatrics</td>\n",
       "      <td>Pediattrician</td>\n",
       "      <td>MD</td>\n",
       "      <td>health</td>\n",
       "    </tr>\n",
       "    <tr>\n",
       "      <th>28</th>\n",
       "      <td>Pol science</td>\n",
       "      <td>PGT political science</td>\n",
       "      <td>Political science teacher</td>\n",
       "      <td>education</td>\n",
       "    </tr>\n",
       "    <tr>\n",
       "      <th>29</th>\n",
       "      <td>Civil</td>\n",
       "      <td>Financial planning</td>\n",
       "      <td>Infrastructure</td>\n",
       "      <td>engineer</td>\n",
       "    </tr>\n",
       "    <tr>\n",
       "      <th>30</th>\n",
       "      <td>Team management</td>\n",
       "      <td>Tied channel</td>\n",
       "      <td>Managment</td>\n",
       "      <td>management</td>\n",
       "    </tr>\n",
       "    <tr>\n",
       "      <th>31</th>\n",
       "      <td>GIT</td>\n",
       "      <td>Jenkins</td>\n",
       "      <td>Bootstrap</td>\n",
       "      <td>IT engineer</td>\n",
       "    </tr>\n",
       "    <tr>\n",
       "      <th>32</th>\n",
       "      <td>Consultant dgo</td>\n",
       "      <td>Ivf</td>\n",
       "      <td>DNB</td>\n",
       "      <td>health</td>\n",
       "    </tr>\n",
       "    <tr>\n",
       "      <th>33</th>\n",
       "      <td>patient care</td>\n",
       "      <td>administration</td>\n",
       "      <td>facility management</td>\n",
       "      <td>management</td>\n",
       "    </tr>\n",
       "    <tr>\n",
       "      <th>34</th>\n",
       "      <td>Team handling</td>\n",
       "      <td>Manager quality</td>\n",
       "      <td>Inspection methods</td>\n",
       "      <td>management</td>\n",
       "    </tr>\n",
       "    <tr>\n",
       "      <th>35</th>\n",
       "      <td>Banking</td>\n",
       "      <td>Operation Manager</td>\n",
       "      <td>Operation Head</td>\n",
       "      <td>banking</td>\n",
       "    </tr>\n",
       "    <tr>\n",
       "      <th>36</th>\n",
       "      <td>HR manager</td>\n",
       "      <td>HR head</td>\n",
       "      <td>HR generalist</td>\n",
       "      <td>management</td>\n",
       "    </tr>\n",
       "  </tbody>\n",
       "</table>\n",
       "</div>"
      ],
      "text/plain": [
       "                            0                           1  \\\n",
       "0            Collection agent                     Banking   \n",
       "1     distribution management            channel partners   \n",
       "2                  Cabin crew              Sr. Cabin crew   \n",
       "3                         SMO                         XML   \n",
       "4           Inverter Engineer                        SMPS   \n",
       "5                  Insurance                         Bank   \n",
       "6                 marketing              content designer   \n",
       "7   Human resource management                        HR     \n",
       "8             General manager      Deputy general manager   \n",
       "9                         Tax                    Accounts   \n",
       "10                    Shampoo                   Skin care   \n",
       "11                Pol science       PGT political science   \n",
       "12                        GIT                     Jenkins   \n",
       "13                Formulation                        r&d    \n",
       "14                        Tax                    Accounts   \n",
       "15        Bridge construction           Civil engineering   \n",
       "16    Passenger service agent            Security officer   \n",
       "17         Quality Supervisor            Quality Engineer   \n",
       "18                    Urology        Consultant urologist   \n",
       "19                 A3 printer          Commercial printer   \n",
       "20         Passenger handling            Baggage handling   \n",
       "21                     Sales         Business development   \n",
       "22                        GPS                  Electrical   \n",
       "23                   Conselor                      Mentor   \n",
       "24                     MS SQL                  Javascript   \n",
       "25         Banking operations                    Banking    \n",
       "26         Banking operations  Customer service executive   \n",
       "27                 Pediatrics               Pediattrician   \n",
       "28                Pol science       PGT political science   \n",
       "29                      Civil          Financial planning   \n",
       "30            Team management                Tied channel   \n",
       "31                        GIT                     Jenkins   \n",
       "32             Consultant dgo                         Ivf   \n",
       "33               patient care              administration   \n",
       "34              Team handling             Manager quality   \n",
       "35                  Banking             Operation Manager   \n",
       "36                 HR manager                     HR head   \n",
       "\n",
       "                            2                    3  \n",
       "0   Head business development              banking  \n",
       "1              retail outlets     sales management  \n",
       "2                 Air hostess             Aviation  \n",
       "3                Social media            marketing  \n",
       "4           Power Electronics  electronic engineer  \n",
       "5                   Financial              banking  \n",
       "6             content writing           literature  \n",
       "7        Statutory compliance            marketing  \n",
       "8              Resort manager           management  \n",
       "9               Cost analysis              banking  \n",
       "10       Industrial marketing               health  \n",
       "11  Political science teacher            education  \n",
       "12                  Bootstrap          IT engineer  \n",
       "13                    Capsule           management  \n",
       "14              Cost analysis              banking  \n",
       "15           Quality surveyor             engineer  \n",
       "16          Passport checking             Aviation  \n",
       "17          Quality Assurance           management  \n",
       "18                DNB urology               health  \n",
       "19                 Management              Sales    \n",
       "20             Service report             Aviation  \n",
       "21            Lead generation            marketing  \n",
       "22                     Sensor             engineer  \n",
       "23                    Trainer            education  \n",
       "24                       JIRA          IT engineer  \n",
       "25       Banking and finanace              banking  \n",
       "26     Back officer executive              banking  \n",
       "27                         MD               health  \n",
       "28  Political science teacher            education  \n",
       "29             Infrastructure             engineer  \n",
       "30                  Managment           management  \n",
       "31                  Bootstrap          IT engineer  \n",
       "32                        DNB               health  \n",
       "33        facility management           management  \n",
       "34         Inspection methods           management  \n",
       "35             Operation Head              banking  \n",
       "36              HR generalist           management  "
      ]
     },
     "execution_count": 36,
     "metadata": {},
     "output_type": "execute_result"
    }
   ],
   "source": [
    "te"
   ]
  },
  {
   "cell_type": "code",
   "execution_count": 39,
   "metadata": {
    "ExecuteTime": {
     "end_time": "2020-07-01T15:12:13.085414Z",
     "start_time": "2020-07-01T15:12:12.923404Z"
    }
   },
   "outputs": [],
   "source": [
    "pre = pd.DataFrame(pred)"
   ]
  },
  {
   "cell_type": "code",
   "execution_count": 40,
   "metadata": {},
   "outputs": [
    {
     "data": {
      "text/html": [
       "<div>\n",
       "<style scoped>\n",
       "    .dataframe tbody tr th:only-of-type {\n",
       "        vertical-align: middle;\n",
       "    }\n",
       "\n",
       "    .dataframe tbody tr th {\n",
       "        vertical-align: top;\n",
       "    }\n",
       "\n",
       "    .dataframe thead th {\n",
       "        text-align: right;\n",
       "    }\n",
       "</style>\n",
       "<table border=\"1\" class=\"dataframe\">\n",
       "  <thead>\n",
       "    <tr style=\"text-align: right;\">\n",
       "      <th></th>\n",
       "      <th>0</th>\n",
       "    </tr>\n",
       "  </thead>\n",
       "  <tbody>\n",
       "    <tr>\n",
       "      <th>0</th>\n",
       "      <td>1</td>\n",
       "    </tr>\n",
       "    <tr>\n",
       "      <th>1</th>\n",
       "      <td>0</td>\n",
       "    </tr>\n",
       "    <tr>\n",
       "      <th>2</th>\n",
       "      <td>20</td>\n",
       "    </tr>\n",
       "    <tr>\n",
       "      <th>3</th>\n",
       "      <td>0</td>\n",
       "    </tr>\n",
       "    <tr>\n",
       "      <th>4</th>\n",
       "      <td>0</td>\n",
       "    </tr>\n",
       "    <tr>\n",
       "      <th>5</th>\n",
       "      <td>1</td>\n",
       "    </tr>\n",
       "    <tr>\n",
       "      <th>6</th>\n",
       "      <td>0</td>\n",
       "    </tr>\n",
       "    <tr>\n",
       "      <th>7</th>\n",
       "      <td>0</td>\n",
       "    </tr>\n",
       "    <tr>\n",
       "      <th>8</th>\n",
       "      <td>3</td>\n",
       "    </tr>\n",
       "    <tr>\n",
       "      <th>9</th>\n",
       "      <td>1</td>\n",
       "    </tr>\n",
       "    <tr>\n",
       "      <th>10</th>\n",
       "      <td>2</td>\n",
       "    </tr>\n",
       "    <tr>\n",
       "      <th>11</th>\n",
       "      <td>4</td>\n",
       "    </tr>\n",
       "    <tr>\n",
       "      <th>12</th>\n",
       "      <td>5</td>\n",
       "    </tr>\n",
       "    <tr>\n",
       "      <th>13</th>\n",
       "      <td>3</td>\n",
       "    </tr>\n",
       "    <tr>\n",
       "      <th>14</th>\n",
       "      <td>1</td>\n",
       "    </tr>\n",
       "    <tr>\n",
       "      <th>15</th>\n",
       "      <td>7</td>\n",
       "    </tr>\n",
       "    <tr>\n",
       "      <th>16</th>\n",
       "      <td>20</td>\n",
       "    </tr>\n",
       "    <tr>\n",
       "      <th>17</th>\n",
       "      <td>3</td>\n",
       "    </tr>\n",
       "    <tr>\n",
       "      <th>18</th>\n",
       "      <td>2</td>\n",
       "    </tr>\n",
       "    <tr>\n",
       "      <th>19</th>\n",
       "      <td>10</td>\n",
       "    </tr>\n",
       "    <tr>\n",
       "      <th>20</th>\n",
       "      <td>20</td>\n",
       "    </tr>\n",
       "    <tr>\n",
       "      <th>21</th>\n",
       "      <td>0</td>\n",
       "    </tr>\n",
       "    <tr>\n",
       "      <th>22</th>\n",
       "      <td>7</td>\n",
       "    </tr>\n",
       "    <tr>\n",
       "      <th>23</th>\n",
       "      <td>4</td>\n",
       "    </tr>\n",
       "    <tr>\n",
       "      <th>24</th>\n",
       "      <td>5</td>\n",
       "    </tr>\n",
       "    <tr>\n",
       "      <th>25</th>\n",
       "      <td>1</td>\n",
       "    </tr>\n",
       "    <tr>\n",
       "      <th>26</th>\n",
       "      <td>1</td>\n",
       "    </tr>\n",
       "    <tr>\n",
       "      <th>27</th>\n",
       "      <td>2</td>\n",
       "    </tr>\n",
       "    <tr>\n",
       "      <th>28</th>\n",
       "      <td>4</td>\n",
       "    </tr>\n",
       "    <tr>\n",
       "      <th>29</th>\n",
       "      <td>7</td>\n",
       "    </tr>\n",
       "    <tr>\n",
       "      <th>30</th>\n",
       "      <td>16</td>\n",
       "    </tr>\n",
       "    <tr>\n",
       "      <th>31</th>\n",
       "      <td>5</td>\n",
       "    </tr>\n",
       "    <tr>\n",
       "      <th>32</th>\n",
       "      <td>2</td>\n",
       "    </tr>\n",
       "    <tr>\n",
       "      <th>33</th>\n",
       "      <td>3</td>\n",
       "    </tr>\n",
       "    <tr>\n",
       "      <th>34</th>\n",
       "      <td>3</td>\n",
       "    </tr>\n",
       "    <tr>\n",
       "      <th>35</th>\n",
       "      <td>1</td>\n",
       "    </tr>\n",
       "    <tr>\n",
       "      <th>36</th>\n",
       "      <td>3</td>\n",
       "    </tr>\n",
       "  </tbody>\n",
       "</table>\n",
       "</div>"
      ],
      "text/plain": [
       "     0\n",
       "0    1\n",
       "1    0\n",
       "2   20\n",
       "3    0\n",
       "4    0\n",
       "5    1\n",
       "6    0\n",
       "7    0\n",
       "8    3\n",
       "9    1\n",
       "10   2\n",
       "11   4\n",
       "12   5\n",
       "13   3\n",
       "14   1\n",
       "15   7\n",
       "16  20\n",
       "17   3\n",
       "18   2\n",
       "19  10\n",
       "20  20\n",
       "21   0\n",
       "22   7\n",
       "23   4\n",
       "24   5\n",
       "25   1\n",
       "26   1\n",
       "27   2\n",
       "28   4\n",
       "29   7\n",
       "30  16\n",
       "31   5\n",
       "32   2\n",
       "33   3\n",
       "34   3\n",
       "35   1\n",
       "36   3"
      ]
     },
     "execution_count": 40,
     "metadata": {},
     "output_type": "execute_result"
    }
   ],
   "source": [
    "pre"
   ]
  },
  {
   "cell_type": "markdown",
   "metadata": {},
   "source": [
    "# Testing KMeans On whole data"
   ]
  },
  {
   "cell_type": "code",
   "execution_count": 41,
   "metadata": {
    "ExecuteTime": {
     "end_time": "2020-07-01T15:12:13.183419Z",
     "start_time": "2020-07-01T15:12:13.087414Z"
    }
   },
   "outputs": [],
   "source": [
    "dfs  = data.drop(['location','job title','salary','company'],axis=1)"
   ]
  },
  {
   "cell_type": "code",
   "execution_count": 42,
   "metadata": {
    "ExecuteTime": {
     "end_time": "2020-07-01T15:12:13.284425Z",
     "start_time": "2020-07-01T15:12:13.186419Z"
    }
   },
   "outputs": [],
   "source": [
    "dfs = ohe.fit_transform(dfs)"
   ]
  },
  {
   "cell_type": "code",
   "execution_count": 43,
   "metadata": {},
   "outputs": [
    {
     "data": {
      "text/plain": [
       "<182x376 sparse matrix of type '<class 'numpy.float64'>'\n",
       "\twith 728 stored elements in Compressed Sparse Row format>"
      ]
     },
     "execution_count": 43,
     "metadata": {},
     "output_type": "execute_result"
    }
   ],
   "source": [
    "dfs"
   ]
  },
  {
   "cell_type": "code",
   "execution_count": 44,
   "metadata": {
    "ExecuteTime": {
     "end_time": "2020-07-01T15:12:13.390431Z",
     "start_time": "2020-07-01T15:12:13.286425Z"
    }
   },
   "outputs": [],
   "source": [
    "pred1 = km.predict(dfs)"
   ]
  },
  {
   "cell_type": "code",
   "execution_count": 45,
   "metadata": {
    "ExecuteTime": {
     "end_time": "2020-07-01T15:12:13.493437Z",
     "start_time": "2020-07-01T15:12:13.403432Z"
    }
   },
   "outputs": [
    {
     "data": {
      "text/plain": [
       "array([ 0,  2,  3,  6,  6, 20, 20, 20,  5,  1,  5,  2,  0,  3, 19,  6,  5,\n",
       "        1,  3, 17, 20,  1,  1,  5,  0,  3,  3,  3,  4,  4,  7, 18,  1,  4,\n",
       "        0,  4,  3,  1, 11,  1, 16,  3,  3, 13,  5, 14,  5,  5,  0,  0,  5,\n",
       "        0,  3,  0,  5,  0,  2,  5,  2, 14,  0,  3,  5,  0,  0,  3,  3,  3,\n",
       "        2,  2,  5,  2,  0, 12,  0, 10,  8,  2, 15,  1,  9,  7,  7,  2,  7,\n",
       "        3,  5,  0,  1, 11,  1, 16,  3,  3, 13,  5, 14,  5,  5,  0, 12,  0,\n",
       "       10,  8,  2, 15,  1,  9,  7,  7,  7,  1,  3,  1,  3,  7,  1,  2,  6,\n",
       "        5,  3,  6,  3,  2,  2,  5,  1,  4,  4,  0,  7,  3,  0,  0,  0,  4,\n",
       "        4,  3,  2,  3,  7,  0,  3,  1,  0,  0, 10,  8,  2,  3,  2, 15,  1,\n",
       "        9,  3, 19,  6,  5,  1,  3, 17, 20,  1,  1,  5,  0,  3,  3,  3,  4,\n",
       "        4,  7, 18,  1,  4,  0,  4,  3,  1, 11,  1, 16])"
      ]
     },
     "execution_count": 45,
     "metadata": {},
     "output_type": "execute_result"
    }
   ],
   "source": [
    "pred1"
   ]
  },
  {
   "cell_type": "code",
   "execution_count": 46,
   "metadata": {
    "ExecuteTime": {
     "end_time": "2020-07-01T15:12:13.613444Z",
     "start_time": "2020-07-01T15:12:13.504438Z"
    }
   },
   "outputs": [],
   "source": [
    "tes = pd.DataFrame(ohe.inverse_transform(dfs))"
   ]
  },
  {
   "cell_type": "code",
   "execution_count": 47,
   "metadata": {},
   "outputs": [
    {
     "data": {
      "text/html": [
       "<div>\n",
       "<style scoped>\n",
       "    .dataframe tbody tr th:only-of-type {\n",
       "        vertical-align: middle;\n",
       "    }\n",
       "\n",
       "    .dataframe tbody tr th {\n",
       "        vertical-align: top;\n",
       "    }\n",
       "\n",
       "    .dataframe thead th {\n",
       "        text-align: right;\n",
       "    }\n",
       "</style>\n",
       "<table border=\"1\" class=\"dataframe\">\n",
       "  <thead>\n",
       "    <tr style=\"text-align: right;\">\n",
       "      <th></th>\n",
       "      <th>0</th>\n",
       "      <th>1</th>\n",
       "      <th>2</th>\n",
       "      <th>3</th>\n",
       "    </tr>\n",
       "  </thead>\n",
       "  <tbody>\n",
       "    <tr>\n",
       "      <th>0</th>\n",
       "      <td>Sales</td>\n",
       "      <td>Business development</td>\n",
       "      <td>Lead generation</td>\n",
       "      <td>marketing</td>\n",
       "    </tr>\n",
       "    <tr>\n",
       "      <th>1</th>\n",
       "      <td>Gynecologist</td>\n",
       "      <td>Gynecology</td>\n",
       "      <td>DNB Gynecology</td>\n",
       "      <td>health</td>\n",
       "    </tr>\n",
       "    <tr>\n",
       "      <th>2</th>\n",
       "      <td>Quality Supervisor</td>\n",
       "      <td>Quality Engineer</td>\n",
       "      <td>Quality Assurance</td>\n",
       "      <td>management</td>\n",
       "    </tr>\n",
       "    <tr>\n",
       "      <th>3</th>\n",
       "      <td>Delivery boy</td>\n",
       "      <td>Delivery field boy</td>\n",
       "      <td>Delivery parcel</td>\n",
       "      <td>sales</td>\n",
       "    </tr>\n",
       "    <tr>\n",
       "      <th>4</th>\n",
       "      <td>Marketing</td>\n",
       "      <td>Sales</td>\n",
       "      <td>New product</td>\n",
       "      <td>sales</td>\n",
       "    </tr>\n",
       "    <tr>\n",
       "      <th>...</th>\n",
       "      <td>...</td>\n",
       "      <td>...</td>\n",
       "      <td>...</td>\n",
       "      <td>...</td>\n",
       "    </tr>\n",
       "    <tr>\n",
       "      <th>177</th>\n",
       "      <td>Project management</td>\n",
       "      <td>Iso</td>\n",
       "      <td>Procurement</td>\n",
       "      <td>management</td>\n",
       "    </tr>\n",
       "    <tr>\n",
       "      <th>178</th>\n",
       "      <td>Insurance</td>\n",
       "      <td>Bank</td>\n",
       "      <td>Financial</td>\n",
       "      <td>banking</td>\n",
       "    </tr>\n",
       "    <tr>\n",
       "      <th>179</th>\n",
       "      <td>Forex executive</td>\n",
       "      <td>Forex</td>\n",
       "      <td>Forex head</td>\n",
       "      <td>management</td>\n",
       "    </tr>\n",
       "    <tr>\n",
       "      <th>180</th>\n",
       "      <td>Agency</td>\n",
       "      <td>Tied</td>\n",
       "      <td>Bfsi</td>\n",
       "      <td>banking</td>\n",
       "    </tr>\n",
       "    <tr>\n",
       "      <th>181</th>\n",
       "      <td>Team management</td>\n",
       "      <td>Tied channel</td>\n",
       "      <td>Managment</td>\n",
       "      <td>management</td>\n",
       "    </tr>\n",
       "  </tbody>\n",
       "</table>\n",
       "<p>182 rows × 4 columns</p>\n",
       "</div>"
      ],
      "text/plain": [
       "                      0                     1                  2           3\n",
       "0                Sales   Business development    Lead generation   marketing\n",
       "1          Gynecologist            Gynecology     DNB Gynecology      health\n",
       "2    Quality Supervisor      Quality Engineer  Quality Assurance  management\n",
       "3          Delivery boy    Delivery field boy    Delivery parcel       sales\n",
       "4             Marketing                 Sales        New product       sales\n",
       "..                  ...                   ...                ...         ...\n",
       "177  Project management                   Iso        Procurement  management\n",
       "178          Insurance                   Bank          Financial     banking\n",
       "179     Forex executive                 Forex         Forex head  management\n",
       "180              Agency                  Tied               Bfsi     banking\n",
       "181     Team management          Tied channel          Managment  management\n",
       "\n",
       "[182 rows x 4 columns]"
      ]
     },
     "execution_count": 47,
     "metadata": {},
     "output_type": "execute_result"
    }
   ],
   "source": [
    "tes"
   ]
  },
  {
   "cell_type": "code",
   "execution_count": 48,
   "metadata": {
    "ExecuteTime": {
     "end_time": "2020-07-01T15:12:13.716450Z",
     "start_time": "2020-07-01T15:12:13.620444Z"
    }
   },
   "outputs": [],
   "source": [
    "dte = data.copy()"
   ]
  },
  {
   "cell_type": "code",
   "execution_count": 49,
   "metadata": {
    "ExecuteTime": {
     "end_time": "2020-07-01T15:12:13.824456Z",
     "start_time": "2020-07-01T15:12:13.720450Z"
    }
   },
   "outputs": [],
   "source": [
    "rec = pd.concat([data, pd.DataFrame(pred1)], axis=1)"
   ]
  },
  {
   "cell_type": "code",
   "execution_count": 50,
   "metadata": {
    "ExecuteTime": {
     "end_time": "2020-07-01T15:12:13.976465Z",
     "start_time": "2020-07-01T15:12:13.826456Z"
    }
   },
   "outputs": [
    {
     "data": {
      "text/plain": [
       "Index([    'location',    'job title',       'salary', 'eligibility1',\n",
       "       'eligibility2', 'eligibility3',       'sector',      'company',\n",
       "                    0],\n",
       "      dtype='object')"
      ]
     },
     "execution_count": 50,
     "metadata": {},
     "output_type": "execute_result"
    }
   ],
   "source": [
    "rec.columns"
   ]
  },
  {
   "cell_type": "code",
   "execution_count": 51,
   "metadata": {
    "ExecuteTime": {
     "end_time": "2020-07-01T15:12:14.082471Z",
     "start_time": "2020-07-01T15:12:13.985465Z"
    }
   },
   "outputs": [],
   "source": [
    "rec.columns = [\n",
    "    'location',\n",
    "    'job title',\n",
    "    'salary',\n",
    "    'eligibility1',\n",
    "    'eligibility2',\n",
    "    'eligibility3',\n",
    "    'sector',\n",
    "    'company',\n",
    "    'pred_kmean'\n",
    "]"
   ]
  },
  {
   "cell_type": "code",
   "execution_count": 52,
   "metadata": {
    "ExecuteTime": {
     "end_time": "2020-07-01T15:12:14.212478Z",
     "start_time": "2020-07-01T15:12:14.088471Z"
    }
   },
   "outputs": [],
   "source": [
    "company_list = list(pd.DataFrame(rec.groupby('pred_kmean').agg({'company':list}))['company'].values)"
   ]
  },
  {
   "cell_type": "code",
   "execution_count": 53,
   "metadata": {
    "ExecuteTime": {
     "end_time": "2020-07-01T15:12:14.300483Z",
     "start_time": "2020-07-01T15:12:14.214478Z"
    }
   },
   "outputs": [],
   "source": [
    "company_dict  = {i:j for i,j in enumerate(company_list)}"
   ]
  },
  {
   "cell_type": "code",
   "execution_count": 54,
   "metadata": {
    "ExecuteTime": {
     "end_time": "2020-07-01T15:12:14.405489Z",
     "start_time": "2020-07-01T15:12:14.307483Z"
    }
   },
   "outputs": [],
   "source": [
    "rec['recommended'] = rec['pred_kmean'].apply(lambda x : company_dict[x])"
   ]
  },
  {
   "cell_type": "code",
   "execution_count": 55,
   "metadata": {
    "ExecuteTime": {
     "end_time": "2020-07-01T15:12:14.514495Z",
     "start_time": "2020-07-01T15:12:14.410489Z"
    }
   },
   "outputs": [
    {
     "data": {
      "text/html": [
       "<div>\n",
       "<style scoped>\n",
       "    .dataframe tbody tr th:only-of-type {\n",
       "        vertical-align: middle;\n",
       "    }\n",
       "\n",
       "    .dataframe tbody tr th {\n",
       "        vertical-align: top;\n",
       "    }\n",
       "\n",
       "    .dataframe thead th {\n",
       "        text-align: right;\n",
       "    }\n",
       "</style>\n",
       "<table border=\"1\" class=\"dataframe\">\n",
       "  <thead>\n",
       "    <tr style=\"text-align: right;\">\n",
       "      <th></th>\n",
       "      <th>location</th>\n",
       "      <th>job title</th>\n",
       "      <th>salary</th>\n",
       "      <th>eligibility1</th>\n",
       "      <th>eligibility2</th>\n",
       "      <th>eligibility3</th>\n",
       "      <th>sector</th>\n",
       "      <th>company</th>\n",
       "      <th>pred_kmean</th>\n",
       "      <th>recommended</th>\n",
       "    </tr>\n",
       "  </thead>\n",
       "  <tbody>\n",
       "    <tr>\n",
       "      <th>0</th>\n",
       "      <td>Haladwani</td>\n",
       "      <td>Sales officer</td>\n",
       "      <td>200000</td>\n",
       "      <td>Sales</td>\n",
       "      <td>Business development</td>\n",
       "      <td>Lead generation</td>\n",
       "      <td>marketing</td>\n",
       "      <td>Digiperform</td>\n",
       "      <td>0</td>\n",
       "      <td>[Digiperform, DSOM, NIIT, Sawan Kirpal Ruhani ...</td>\n",
       "    </tr>\n",
       "    <tr>\n",
       "      <th>1</th>\n",
       "      <td>Roorkee</td>\n",
       "      <td>Exciting job opportunity for  gynecologist in ...</td>\n",
       "      <td>320000</td>\n",
       "      <td>Gynecologist</td>\n",
       "      <td>Gynecology</td>\n",
       "      <td>DNB Gynecology</td>\n",
       "      <td>health</td>\n",
       "      <td>Bhagwati Hospital</td>\n",
       "      <td>2</td>\n",
       "      <td>[Bhagwati Hospital, Vardhman Hospital, Pure &amp; ...</td>\n",
       "    </tr>\n",
       "    <tr>\n",
       "      <th>2</th>\n",
       "      <td>Roorkee</td>\n",
       "      <td>Job opening for the post of line supervisor</td>\n",
       "      <td>300000</td>\n",
       "      <td>Quality Supervisor</td>\n",
       "      <td>Quality Engineer</td>\n",
       "      <td>Quality Assurance</td>\n",
       "      <td>management</td>\n",
       "      <td>NIIT</td>\n",
       "      <td>3</td>\n",
       "      <td>[NIIT, SBI Funds Management , Himalayan Instit...</td>\n",
       "    </tr>\n",
       "    <tr>\n",
       "      <th>3</th>\n",
       "      <td>Haladwani</td>\n",
       "      <td>Hiring delivery boys for a food delivery app</td>\n",
       "      <td>150000</td>\n",
       "      <td>Delivery boy</td>\n",
       "      <td>Delivery field boy</td>\n",
       "      <td>Delivery parcel</td>\n",
       "      <td>sales</td>\n",
       "      <td>Digiperform</td>\n",
       "      <td>6</td>\n",
       "      <td>[Digiperform, Kalpamrit Marketing, Technolecti...</td>\n",
       "    </tr>\n",
       "    <tr>\n",
       "      <th>4</th>\n",
       "      <td>Haridwar</td>\n",
       "      <td>Marketing ane New product development</td>\n",
       "      <td>200000</td>\n",
       "      <td>Marketing</td>\n",
       "      <td>Sales</td>\n",
       "      <td>New product</td>\n",
       "      <td>sales</td>\n",
       "      <td>Kalpamrit Marketing</td>\n",
       "      <td>6</td>\n",
       "      <td>[Digiperform, Kalpamrit Marketing, Technolecti...</td>\n",
       "    </tr>\n",
       "  </tbody>\n",
       "</table>\n",
       "</div>"
      ],
      "text/plain": [
       "    location                                          job title  salary  \\\n",
       "0  Haladwani                                      Sales officer  200000   \n",
       "1    Roorkee  Exciting job opportunity for  gynecologist in ...  320000   \n",
       "2    Roorkee        Job opening for the post of line supervisor  300000   \n",
       "3  Haladwani       Hiring delivery boys for a food delivery app  150000   \n",
       "4   Haridwar              Marketing ane New product development  200000   \n",
       "\n",
       "         eligibility1          eligibility2       eligibility3      sector  \\\n",
       "0              Sales   Business development    Lead generation   marketing   \n",
       "1        Gynecologist            Gynecology     DNB Gynecology      health   \n",
       "2  Quality Supervisor      Quality Engineer  Quality Assurance  management   \n",
       "3        Delivery boy    Delivery field boy    Delivery parcel       sales   \n",
       "4           Marketing                 Sales        New product       sales   \n",
       "\n",
       "               company  pred_kmean  \\\n",
       "0          Digiperform           0   \n",
       "1    Bhagwati Hospital           2   \n",
       "2                 NIIT           3   \n",
       "3          Digiperform           6   \n",
       "4  Kalpamrit Marketing           6   \n",
       "\n",
       "                                         recommended  \n",
       "0  [Digiperform, DSOM, NIIT, Sawan Kirpal Ruhani ...  \n",
       "1  [Bhagwati Hospital, Vardhman Hospital, Pure & ...  \n",
       "2  [NIIT, SBI Funds Management , Himalayan Instit...  \n",
       "3  [Digiperform, Kalpamrit Marketing, Technolecti...  \n",
       "4  [Digiperform, Kalpamrit Marketing, Technolecti...  "
      ]
     },
     "execution_count": 55,
     "metadata": {},
     "output_type": "execute_result"
    }
   ],
   "source": [
    "rec.head()"
   ]
  },
  {
   "cell_type": "code",
   "execution_count": null,
   "metadata": {},
   "outputs": [],
   "source": [
    "rec[\"recommended\"][1]"
   ]
  },
  {
   "cell_type": "code",
   "execution_count": null,
   "metadata": {
    "ExecuteTime": {
     "end_time": "2020-07-01T15:17:04.621088Z",
     "start_time": "2020-07-01T15:17:04.613088Z"
    }
   },
   "outputs": [],
   "source": [
    "import pickle\n",
    "\n",
    "pickle.dump(ohe,open('ohe_recommender.pkl','wb'))"
   ]
  },
  {
   "cell_type": "code",
   "execution_count": null,
   "metadata": {
    "ExecuteTime": {
     "end_time": "2020-07-01T15:17:55.277986Z",
     "start_time": "2020-07-01T15:17:55.264985Z"
    }
   },
   "outputs": [],
   "source": [
    "pickle.dump(km, open('recommender.sav','wb'))"
   ]
  },
  {
   "cell_type": "code",
   "execution_count": null,
   "metadata": {
    "ExecuteTime": {
     "end_time": "2020-07-01T15:19:27.181242Z",
     "start_time": "2020-07-01T15:19:27.166242Z"
    }
   },
   "outputs": [],
   "source": [
    "pickle.dump(company_dict,open('company_name.pkl','wb'))"
   ]
  },
  {
   "cell_type": "code",
   "execution_count": null,
   "metadata": {},
   "outputs": [],
   "source": []
  }
 ],
 "metadata": {
  "kernelspec": {
   "display_name": "Python 3",
   "language": "python",
   "name": "python3"
  },
  "language_info": {
   "codemirror_mode": {
    "name": "ipython",
    "version": 3
   },
   "file_extension": ".py",
   "mimetype": "text/x-python",
   "name": "python",
   "nbconvert_exporter": "python",
   "pygments_lexer": "ipython3",
   "version": "3.7.6"
  },
  "toc": {
   "base_numbering": 1,
   "nav_menu": {},
   "number_sections": true,
   "sideBar": true,
   "skip_h1_title": false,
   "title_cell": "Table of Contents",
   "title_sidebar": "Contents",
   "toc_cell": false,
   "toc_position": {},
   "toc_section_display": true,
   "toc_window_display": false
  },
  "varInspector": {
   "cols": {
    "lenName": 16,
    "lenType": 16,
    "lenVar": 40
   },
   "kernels_config": {
    "python": {
     "delete_cmd_postfix": "",
     "delete_cmd_prefix": "del ",
     "library": "var_list.py",
     "varRefreshCmd": "print(var_dic_list())"
    },
    "r": {
     "delete_cmd_postfix": ") ",
     "delete_cmd_prefix": "rm(",
     "library": "var_list.r",
     "varRefreshCmd": "cat(var_dic_list()) "
    }
   },
   "oldHeight": 405,
   "position": {
    "height": "40px",
    "left": "741px",
    "right": "20px",
    "top": "147px",
    "width": "563px"
   },
   "types_to_exclude": [
    "module",
    "function",
    "builtin_function_or_method",
    "instance",
    "_Feature"
   ],
   "varInspector_section_display": "none",
   "window_display": false
  }
 },
 "nbformat": 4,
 "nbformat_minor": 4
}