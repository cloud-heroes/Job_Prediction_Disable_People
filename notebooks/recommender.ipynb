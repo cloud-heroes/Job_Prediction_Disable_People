{
 "metadata": {
  "language_info": {
   "codemirror_mode": {
    "name": "ipython",
    "version": 3
   },
   "file_extension": ".py",
   "mimetype": "text/x-python",
   "name": "python",
   "nbconvert_exporter": "python",
   "pygments_lexer": "ipython3",
   "version": "3.8.5-final"
  },
  "orig_nbformat": 2,
  "kernelspec": {
   "name": "python3",
   "display_name": "Python 3.8.5 64-bit (conda)",
   "metadata": {
    "interpreter": {
     "hash": "cc5f70855ac006f3de45a3cc3b9e7d8d53845e50458809cb162b0174266dec97"
    }
   }
  }
 },
 "nbformat": 4,
 "nbformat_minor": 2,
 "cells": [
  {
   "cell_type": "code",
   "execution_count": 1,
   "metadata": {},
   "outputs": [],
   "source": [
    "import pandas as pd"
   ]
  },
  {
   "cell_type": "code",
   "execution_count": 2,
   "metadata": {},
   "outputs": [],
   "source": [
    "data = pd.read_csv('job_data.csv')"
   ]
  },
  {
   "cell_type": "code",
   "execution_count": 29,
   "metadata": {},
   "outputs": [],
   "source": [
    "def salary_feature(df):\n",
    "\n",
    "    # val1 = \"2000 - 6999\"\n",
    "    # val2 = \"7000 - 14999\"\n",
    "    val3 = \"15000 - 34999\"\n",
    "    val4 = \"35000 - 50000\"\n",
    "\n",
    "    if df >= 2000 and df < 7000:\n",
    "        df = \"2000 - 6999\"\n",
    "    elif df >= 7000 and df < 15000:\n",
    "        df = \"7000 - 14999\"\n",
    "    elif df >= 15000 and df < 35000:\n",
    "        df = val3\n",
    "    else:\n",
    "        df = val4\n",
    "    return df\n"
   ]
  },
  {
   "cell_type": "code",
   "execution_count": 34,
   "metadata": {},
   "outputs": [],
   "source": [
    "from preprocessing import replace_redundant"
   ]
  },
  {
   "cell_type": "code",
   "execution_count": 35,
   "metadata": {},
   "outputs": [
    {
     "output_type": "execute_result",
     "data": {
      "text/plain": [
       "0       7000 - 14999\n",
       "1       7000 - 14999\n",
       "2       7000 - 14999\n",
       "3       7000 - 14999\n",
       "4      15000 - 34999\n",
       "           ...      \n",
       "995    15000 - 34999\n",
       "996      2000 - 6999\n",
       "997    35000 - 50000\n",
       "998    15000 - 34999\n",
       "999      2000 - 6999\n",
       "Name: Salary, Length: 1000, dtype: object"
      ]
     },
     "metadata": {},
     "execution_count": 35
    }
   ],
   "source": [
    "data['Salary']"
   ]
  },
  {
   "cell_type": "code",
   "execution_count": 36,
   "metadata": {},
   "outputs": [],
   "source": [
    "# Eligibility and Salary range"
   ]
  },
  {
   "cell_type": "code",
   "execution_count": 37,
   "metadata": {},
   "outputs": [
    {
     "output_type": "error",
     "ename": "TypeError",
     "evalue": "'>=' not supported between instances of 'str' and 'int'",
     "traceback": [
      "\u001b[1;31m---------------------------------------------------------------------------\u001b[0m",
      "\u001b[1;31mTypeError\u001b[0m                                 Traceback (most recent call last)",
      "\u001b[1;32m<ipython-input-37-2376be03a4e7>\u001b[0m in \u001b[0;36m<module>\u001b[1;34m\u001b[0m\n\u001b[1;32m----> 1\u001b[1;33m \u001b[0mdata\u001b[0m\u001b[1;33m[\u001b[0m\u001b[1;34m'Salary'\u001b[0m\u001b[1;33m]\u001b[0m \u001b[1;33m=\u001b[0m \u001b[0mdata\u001b[0m\u001b[1;33m[\u001b[0m\u001b[1;34m'Salary'\u001b[0m\u001b[1;33m]\u001b[0m\u001b[1;33m.\u001b[0m\u001b[0mapply\u001b[0m\u001b[1;33m(\u001b[0m\u001b[0msalary_feature\u001b[0m\u001b[1;33m)\u001b[0m\u001b[1;33m\u001b[0m\u001b[1;33m\u001b[0m\u001b[0m\n\u001b[0m",
      "\u001b[1;32mD:\\anaconda\\lib\\site-packages\\pandas\\core\\series.py\u001b[0m in \u001b[0;36mapply\u001b[1;34m(self, func, convert_dtype, args, **kwds)\u001b[0m\n\u001b[0;32m   4198\u001b[0m             \u001b[1;32melse\u001b[0m\u001b[1;33m:\u001b[0m\u001b[1;33m\u001b[0m\u001b[1;33m\u001b[0m\u001b[0m\n\u001b[0;32m   4199\u001b[0m                 \u001b[0mvalues\u001b[0m \u001b[1;33m=\u001b[0m \u001b[0mself\u001b[0m\u001b[1;33m.\u001b[0m\u001b[0mastype\u001b[0m\u001b[1;33m(\u001b[0m\u001b[0mobject\u001b[0m\u001b[1;33m)\u001b[0m\u001b[1;33m.\u001b[0m\u001b[0m_values\u001b[0m\u001b[1;33m\u001b[0m\u001b[1;33m\u001b[0m\u001b[0m\n\u001b[1;32m-> 4200\u001b[1;33m                 \u001b[0mmapped\u001b[0m \u001b[1;33m=\u001b[0m \u001b[0mlib\u001b[0m\u001b[1;33m.\u001b[0m\u001b[0mmap_infer\u001b[0m\u001b[1;33m(\u001b[0m\u001b[0mvalues\u001b[0m\u001b[1;33m,\u001b[0m \u001b[0mf\u001b[0m\u001b[1;33m,\u001b[0m \u001b[0mconvert\u001b[0m\u001b[1;33m=\u001b[0m\u001b[0mconvert_dtype\u001b[0m\u001b[1;33m)\u001b[0m\u001b[1;33m\u001b[0m\u001b[1;33m\u001b[0m\u001b[0m\n\u001b[0m\u001b[0;32m   4201\u001b[0m \u001b[1;33m\u001b[0m\u001b[0m\n\u001b[0;32m   4202\u001b[0m         \u001b[1;32mif\u001b[0m \u001b[0mlen\u001b[0m\u001b[1;33m(\u001b[0m\u001b[0mmapped\u001b[0m\u001b[1;33m)\u001b[0m \u001b[1;32mand\u001b[0m \u001b[0misinstance\u001b[0m\u001b[1;33m(\u001b[0m\u001b[0mmapped\u001b[0m\u001b[1;33m[\u001b[0m\u001b[1;36m0\u001b[0m\u001b[1;33m]\u001b[0m\u001b[1;33m,\u001b[0m \u001b[0mSeries\u001b[0m\u001b[1;33m)\u001b[0m\u001b[1;33m:\u001b[0m\u001b[1;33m\u001b[0m\u001b[1;33m\u001b[0m\u001b[0m\n",
      "\u001b[1;32mpandas\\_libs\\lib.pyx\u001b[0m in \u001b[0;36mpandas._libs.lib.map_infer\u001b[1;34m()\u001b[0m\n",
      "\u001b[1;32m<ipython-input-29-7f2a16547492>\u001b[0m in \u001b[0;36msalary_feature\u001b[1;34m(df)\u001b[0m\n\u001b[0;32m      6\u001b[0m     \u001b[0mval4\u001b[0m \u001b[1;33m=\u001b[0m \u001b[1;34m\"35000 - 50000\"\u001b[0m\u001b[1;33m\u001b[0m\u001b[1;33m\u001b[0m\u001b[0m\n\u001b[0;32m      7\u001b[0m \u001b[1;33m\u001b[0m\u001b[0m\n\u001b[1;32m----> 8\u001b[1;33m     \u001b[1;32mif\u001b[0m \u001b[0mdf\u001b[0m \u001b[1;33m>=\u001b[0m \u001b[1;36m2000\u001b[0m \u001b[1;32mand\u001b[0m \u001b[0mdf\u001b[0m \u001b[1;33m<\u001b[0m \u001b[1;36m7000\u001b[0m\u001b[1;33m:\u001b[0m\u001b[1;33m\u001b[0m\u001b[1;33m\u001b[0m\u001b[0m\n\u001b[0m\u001b[0;32m      9\u001b[0m         \u001b[0mdf\u001b[0m \u001b[1;33m=\u001b[0m \u001b[1;34m\"2000 - 6999\"\u001b[0m\u001b[1;33m\u001b[0m\u001b[1;33m\u001b[0m\u001b[0m\n\u001b[0;32m     10\u001b[0m     \u001b[1;32melif\u001b[0m \u001b[0mdf\u001b[0m \u001b[1;33m>=\u001b[0m \u001b[1;36m7000\u001b[0m \u001b[1;32mand\u001b[0m \u001b[0mdf\u001b[0m \u001b[1;33m<\u001b[0m \u001b[1;36m15000\u001b[0m\u001b[1;33m:\u001b[0m\u001b[1;33m\u001b[0m\u001b[1;33m\u001b[0m\u001b[0m\n",
      "\u001b[1;31mTypeError\u001b[0m: '>=' not supported between instances of 'str' and 'int'"
     ]
    }
   ],
   "source": [
    "data['Salary'] = data['Salary'].apply(salary_feature)"
   ]
  },
  {
   "cell_type": "code",
   "execution_count": 38,
   "metadata": {},
   "outputs": [],
   "source": [
    "data['Eligibility'] = data['Eligibility'].apply(replace_redundant)"
   ]
  },
  {
   "cell_type": "code",
   "execution_count": 177,
   "metadata": {},
   "outputs": [],
   "source": [
    "x = data.iloc[:, 6:8]"
   ]
  },
  {
   "cell_type": "code",
   "execution_count": 178,
   "metadata": {},
   "outputs": [],
   "source": [
    "import pickle\n",
    "\n",
    "le_eli = pickle.load(open('labelencoder_eligibility.sv', 'rb'))\n",
    "le_sal = pickle.load(open('labelencoder_salary.sv', 'rb'))"
   ]
  },
  {
   "cell_type": "code",
   "execution_count": 179,
   "metadata": {},
   "outputs": [],
   "source": [
    "x['Salary'] = le_sal.transform(x['Salary'])\n",
    "x['Eligibility'] = le_eli.transform(x['Eligibility'])"
   ]
  },
  {
   "cell_type": "code",
   "execution_count": 181,
   "metadata": {},
   "outputs": [
    {
     "output_type": "execute_result",
     "data": {
      "text/plain": [
       "     Eligibility  Salary\n",
       "0             24       3\n",
       "1              9       3\n",
       "2             12       3\n",
       "3              3       3\n",
       "4             16       0\n",
       "..           ...     ...\n",
       "995           18       0\n",
       "996            2       1\n",
       "997           14       2\n",
       "998           27       0\n",
       "999            5       1\n",
       "\n",
       "[1000 rows x 2 columns]"
      ],
      "text/html": "<div>\n<style scoped>\n    .dataframe tbody tr th:only-of-type {\n        vertical-align: middle;\n    }\n\n    .dataframe tbody tr th {\n        vertical-align: top;\n    }\n\n    .dataframe thead th {\n        text-align: right;\n    }\n</style>\n<table border=\"1\" class=\"dataframe\">\n  <thead>\n    <tr style=\"text-align: right;\">\n      <th></th>\n      <th>Eligibility</th>\n      <th>Salary</th>\n    </tr>\n  </thead>\n  <tbody>\n    <tr>\n      <th>0</th>\n      <td>24</td>\n      <td>3</td>\n    </tr>\n    <tr>\n      <th>1</th>\n      <td>9</td>\n      <td>3</td>\n    </tr>\n    <tr>\n      <th>2</th>\n      <td>12</td>\n      <td>3</td>\n    </tr>\n    <tr>\n      <th>3</th>\n      <td>3</td>\n      <td>3</td>\n    </tr>\n    <tr>\n      <th>4</th>\n      <td>16</td>\n      <td>0</td>\n    </tr>\n    <tr>\n      <th>...</th>\n      <td>...</td>\n      <td>...</td>\n    </tr>\n    <tr>\n      <th>995</th>\n      <td>18</td>\n      <td>0</td>\n    </tr>\n    <tr>\n      <th>996</th>\n      <td>2</td>\n      <td>1</td>\n    </tr>\n    <tr>\n      <th>997</th>\n      <td>14</td>\n      <td>2</td>\n    </tr>\n    <tr>\n      <th>998</th>\n      <td>27</td>\n      <td>0</td>\n    </tr>\n    <tr>\n      <th>999</th>\n      <td>5</td>\n      <td>1</td>\n    </tr>\n  </tbody>\n</table>\n<p>1000 rows × 2 columns</p>\n</div>"
     },
     "metadata": {},
     "execution_count": 181
    }
   ],
   "source": [
    "# x.drop('ELigibility', axis=1, inplace=True)\n",
    "x"
   ]
  },
  {
   "cell_type": "code",
   "execution_count": 77,
   "metadata": {},
   "outputs": [],
   "source": [
    "from sklearn.cluster import KMeans"
   ]
  },
  {
   "cell_type": "code",
   "execution_count": 78,
   "metadata": {},
   "outputs": [],
   "source": [
    "km = KMeans()\n",
    "y = km.fit_transform(x)"
   ]
  },
  {
   "cell_type": "code",
   "execution_count": 80,
   "metadata": {},
   "outputs": [
    {
     "output_type": "execute_result",
     "data": {
      "text/plain": [
       "8"
      ]
     },
     "metadata": {},
     "execution_count": 80
    }
   ],
   "source": [
    "km.n_clusters"
   ]
  },
  {
   "cell_type": "code",
   "execution_count": 81,
   "metadata": {},
   "outputs": [],
   "source": [
    "pred = km.predict(x)"
   ]
  },
  {
   "cell_type": "code",
   "execution_count": 116,
   "metadata": {},
   "outputs": [],
   "source": [
    "data1 = data.copy()"
   ]
  },
  {
   "cell_type": "code",
   "execution_count": 117,
   "metadata": {},
   "outputs": [],
   "source": [
    "data1 = data.iloc[:, 6:8]"
   ]
  },
  {
   "cell_type": "code",
   "execution_count": 118,
   "metadata": {},
   "outputs": [],
   "source": [
    "data1['Title'] = data['Title']"
   ]
  },
  {
   "cell_type": "code",
   "execution_count": 119,
   "metadata": {},
   "outputs": [],
   "source": [
    "data1['Cluster'] = pred"
   ]
  },
  {
   "cell_type": "code",
   "execution_count": 120,
   "metadata": {},
   "outputs": [],
   "source": [
    "data2 = data1.copy()"
   ]
  },
  {
   "cell_type": "code",
   "execution_count": 129,
   "metadata": {},
   "outputs": [],
   "source": [
    "data2 = data2.groupby('Cluster')['Title'].apply(list).reset_index(name='Recommended Job')"
   ]
  },
  {
   "cell_type": "code",
   "execution_count": 136,
   "metadata": {},
   "outputs": [],
   "source": [
    "list_job = data2['Recommended Job'].to_list()"
   ]
  },
  {
   "cell_type": "code",
   "execution_count": 165,
   "metadata": {
    "tags": []
   },
   "outputs": [],
   "source": [
    "job = data2['Recommended Job']\n",
    "job.to_csv('Recommended.csv', index=False)"
   ]
  },
  {
   "cell_type": "code",
   "execution_count": 164,
   "metadata": {},
   "outputs": [],
   "source": [
    "# job_title = { i:j for i,j in enumerate(list_job)"
   ]
  },
  {
   "source": [
    "job_data = pd.read_csv('Recommended.csv')"
   ],
   "cell_type": "code",
   "metadata": {},
   "execution_count": 166,
   "outputs": []
  },
  {
   "cell_type": "code",
   "execution_count": 175,
   "metadata": {},
   "outputs": [],
   "source": [
    "job_data.T[0]['Recommended Job']\n",
    "import ast"
   ]
  },
  {
   "cell_type": "code",
   "execution_count": 176,
   "metadata": {},
   "outputs": [
    {
     "output_type": "execute_result",
     "data": {
      "text/plain": [
       "['Quality Engineer',\n",
       " 'Procedure Technician',\n",
       " 'Resource Coordinator Imaging',\n",
       " 'Resource Coordinator Imaging',\n",
       " 'ED Technician',\n",
       " 'Quality Engineer',\n",
       " 'Quality Engineer',\n",
       " 'Registered Neurodiagnostic Technician (Nights)',\n",
       " 'Patient Care Technician',\n",
       " 'Resource Coordinator Imaging',\n",
       " 'Quality Manager',\n",
       " 'Project Manager',\n",
       " 'Registered Neurodiagnostic Technician (Nights)',\n",
       " 'Patient Care Technician',\n",
       " 'Digital Seller On-Boarding Program',\n",
       " 'Sr Manager',\n",
       " 'Project Manager',\n",
       " 'Project Manager',\n",
       " 'Home Infusion Pharmacist',\n",
       " 'Registered Neurodiagnostic Technician (Nights)',\n",
       " 'Procedure Technician',\n",
       " 'Quality Engineer',\n",
       " 'Patient Care Technician',\n",
       " 'Home Infusion Pharmacist',\n",
       " 'Home Infusion Pharmacist',\n",
       " 'Clinical Pharmacist',\n",
       " 'Digital Seller On-Boarding Program',\n",
       " 'Quality Engineer',\n",
       " 'Quality Engineer',\n",
       " 'Procedure Technician',\n",
       " 'Quality Manager',\n",
       " 'ED Technician',\n",
       " 'Procedure Technician',\n",
       " 'ED Technician',\n",
       " 'Quality Engineer',\n",
       " 'Resource Coordinator Imaging',\n",
       " 'Quality Manager',\n",
       " 'ED Technician',\n",
       " 'ED Technician',\n",
       " 'Registered Neurodiagnostic Technician (Nights)',\n",
       " 'MFG Process Operator',\n",
       " 'Quality Manager',\n",
       " 'Quality Engineer',\n",
       " 'MFG Process Operator',\n",
       " 'Procedure Technician',\n",
       " 'Registered Neurodiagnostic Technician (Nights)',\n",
       " 'Resource Coordinator Imaging',\n",
       " 'Project Manager',\n",
       " 'Procedure Technician',\n",
       " 'Quality Manager',\n",
       " 'ED Technician',\n",
       " 'Project Manager',\n",
       " 'Project Manager',\n",
       " 'Resource Coordinator Imaging',\n",
       " 'Procedure Technician',\n",
       " 'Registered Neurodiagnostic Technician (Nights)',\n",
       " 'Project Manager',\n",
       " 'Clinical Pharmacist',\n",
       " 'Home Infusion Pharmacist',\n",
       " 'Digital Seller On-Boarding Program',\n",
       " 'Quality Engineer',\n",
       " 'Quality Manager',\n",
       " 'ED Technician',\n",
       " 'Quality Manager',\n",
       " 'Sr Manager',\n",
       " 'Clinical Pharmacist',\n",
       " 'Resource Coordinator Imaging',\n",
       " 'Procedure Technician',\n",
       " 'Registered Neurodiagnostic Technician (Nights)',\n",
       " 'Patient Care Technician',\n",
       " 'Sr Manager',\n",
       " 'MFG Process Operator',\n",
       " 'Project Manager',\n",
       " 'Clinical Pharmacist',\n",
       " 'Quality Engineer',\n",
       " 'Patient Care Technician',\n",
       " 'Patient Care Technician',\n",
       " 'Sr Manager',\n",
       " 'Sr Manager',\n",
       " 'Sr Manager',\n",
       " 'Sr Manager',\n",
       " 'Digital Seller On-Boarding Program',\n",
       " 'Sr Manager',\n",
       " 'ED Technician',\n",
       " 'Registered Neurodiagnostic Technician (Nights)',\n",
       " 'Quality Engineer',\n",
       " 'Sr Manager',\n",
       " 'MFG Process Operator',\n",
       " 'Resource Coordinator Imaging',\n",
       " 'Quality Manager',\n",
       " 'Quality Engineer',\n",
       " 'Project Manager',\n",
       " 'MFG Process Operator',\n",
       " 'Quality Engineer',\n",
       " 'Procedure Technician',\n",
       " 'Home Infusion Pharmacist',\n",
       " 'Patient Care Technician',\n",
       " 'Registered Neurodiagnostic Technician (Nights)',\n",
       " 'MFG Process Operator',\n",
       " 'Quality Manager',\n",
       " 'Resource Coordinator Imaging',\n",
       " 'Quality Engineer',\n",
       " 'ED Technician',\n",
       " 'MFG Process Operator',\n",
       " 'Home Infusion Pharmacist',\n",
       " 'Home Infusion Pharmacist',\n",
       " 'Registered Neurodiagnostic Technician (Nights)',\n",
       " 'Sr Manager',\n",
       " 'Quality Engineer',\n",
       " 'Clinical Pharmacist',\n",
       " 'Digital Seller On-Boarding Program',\n",
       " 'Project Manager',\n",
       " 'Sr Manager',\n",
       " 'Quality Engineer',\n",
       " 'Project Manager',\n",
       " 'Quality Manager',\n",
       " 'Digital Seller On-Boarding Program',\n",
       " 'Patient Care Technician',\n",
       " 'Quality Manager',\n",
       " 'Project Manager',\n",
       " 'Resource Coordinator Imaging',\n",
       " 'MFG Process Operator',\n",
       " 'Resource Coordinator Imaging',\n",
       " 'Quality Engineer',\n",
       " 'Quality Engineer',\n",
       " 'Quality Engineer',\n",
       " 'Clinical Pharmacist',\n",
       " 'Project Manager',\n",
       " 'Patient Care Technician',\n",
       " 'Quality Engineer',\n",
       " 'Resource Coordinator Imaging',\n",
       " 'Home Infusion Pharmacist',\n",
       " 'Patient Care Technician',\n",
       " 'Quality Engineer',\n",
       " 'Project Manager',\n",
       " 'Quality Manager']"
      ]
     },
     "metadata": {},
     "execution_count": 176
    }
   ],
   "source": [
    "ast.literal_eval(job_data.T[0]['Recommended Job'])"
   ]
  },
  {
   "cell_type": "code",
   "execution_count": 182,
   "metadata": {},
   "outputs": [],
   "source": [
    "pickle.dump(km, open('recommend_model.pkl', 'wb'))"
   ]
  },
  {
   "cell_type": "code",
   "execution_count": null,
   "metadata": {},
   "outputs": [],
   "source": []
  }
 ]
}